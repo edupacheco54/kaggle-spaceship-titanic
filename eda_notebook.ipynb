{
 "cells": [
  {
   "cell_type": "markdown",
   "id": "cfbadb5b",
   "metadata": {},
   "source": [
    "## Load and Preprocessing Portion ##"
   ]
  },
  {
   "cell_type": "code",
   "execution_count": 1,
   "id": "adc75fb6",
   "metadata": {},
   "outputs": [],
   "source": [
    "import pandas as pd\n",
    "from sklearn.impute import SimpleImputer\n",
    "from sklearn.preprocessing import StandardScaler"
   ]
  },
  {
   "cell_type": "code",
   "execution_count": 2,
   "id": "c7cd87a4",
   "metadata": {},
   "outputs": [],
   "source": [
    "def load_data():\n",
    "    train_df = pd.read_csv(\"data/train.csv\")\n",
    "    test_df = pd.read_csv(\"data/test.csv\")\n",
    "    return train_df, test_df"
   ]
  },
  {
   "cell_type": "code",
   "execution_count": 3,
   "id": "5a7ecf74",
   "metadata": {},
   "outputs": [],
   "source": [
    "def clean_data(df):\n",
    "    spend_cols = [\"RoomService\", \"FoodCourt\", \"ShoppingMall\", \"Spa\", \"VRDeck\"]\n",
    "    df[\"Spend\"] = df[spend_cols].fillna(0).sum(axis=1) > 0\n",
    "    df = df.drop(columns=spend_cols)\n",
    "    df = df.drop(columns=[\"Name\"])\n",
    "    return df"
   ]
  },
  {
   "cell_type": "code",
   "execution_count": 4,
   "id": "05baac3d",
   "metadata": {},
   "outputs": [],
   "source": [
    "def fill_missing_values(df):\n",
    "    freq_imputer = SimpleImputer(strategy=\"most_frequent\")\n",
    "    num_imputer = SimpleImputer(strategy=\"median\")\n",
    "    df[[\"HomePlanet\", \"Destination\", \"VIP\", \"CryoSleep\"]] = freq_imputer.fit_transform(df[[\"HomePlanet\", \"Destination\", \"VIP\", \"CryoSleep\"]]) # freq\n",
    "    df[[\"Age\"]] = num_imputer.fit_transform(df[[\"Age\"]]) # Numerical\n",
    "    df[\"Cabin\"] = df[\"Cabin\"].fillna(\"X/0000/X\")\n",
    "    df[[\"Deck\", \"CabinNum\", \"Side\"]] = df[\"Cabin\"].str.split(\"/\", expand=True)\n",
    "    df[\"CabinNum\"] = pd.to_numeric(df[\"CabinNum\"], errors=\"coerce\")\n",
    "    df = df.drop(columns=\"Cabin\")\n",
    "    return df"
   ]
  },
  {
   "cell_type": "code",
   "execution_count": 5,
   "id": "5a772e00",
   "metadata": {},
   "outputs": [],
   "source": [
    "def clean_features(df):\n",
    "    scaler = StandardScaler()\n",
    "    bins = [-0.1, 12, 17, 30, 50, 80]\n",
    "    labels = [\"child\", \"teen\", \"young_adult\", \"adult\", \"senior\"]\n",
    "    df[\"age_group\"] = pd.cut(df[\"Age\"], bins=bins, labels=labels)\n",
    "    df[\"Side_AgeGroup\"] = df[\"Side\"] + \"_\" + df[\"age_group\"].astype(str)\n",
    "    df[\"Is_Starboard_YoungAdult\"] = (df[\"Side\"] == \"S\") & (df[\"age_group\"] == \"young_adult\")\n",
    "    df = pd.get_dummies(df, columns=[\"HomePlanet\", \"Destination\", \"Deck\", \"Side\", \"age_group\", \"Side_AgeGroup\"], drop_first=True)\n",
    "    df[[\"Age\", \"CabinNum\"]] = scaler.fit_transform(df[[\"Age\", \"CabinNum\"]])\n",
    "    return df"
   ]
  },
  {
   "cell_type": "code",
   "execution_count": 6,
   "id": "c563a4e6",
   "metadata": {},
   "outputs": [],
   "source": [
    "def save_files(df1, df2):\n",
    "    df1.to_csv(\"data/train_clean.csv\", index=False)\n",
    "    df2.to_csv(\"data/test_clean.csv\", index=False)\n",
    "\n",
    "    print(\"Preprocessing complete. Cleaned data saved.\")"
   ]
  },
  {
   "cell_type": "code",
   "execution_count": 7,
   "id": "e02d95fb",
   "metadata": {},
   "outputs": [
    {
     "name": "stdout",
     "output_type": "stream",
     "text": [
      "Preprocessing complete. Cleaned data saved.\n"
     ]
    }
   ],
   "source": [
    "# Will me wrapped up into main()\n",
    "\n",
    "train, test = load_data()\n",
    "train, test = clean_data(train), clean_data(test)\n",
    "train, test = fill_missing_values(train), fill_missing_values(test)\n",
    "train, test = clean_features(train), clean_features(test)\n",
    "save_files(train, test)\n"
   ]
  },
  {
   "cell_type": "markdown",
   "id": "264c1a21",
   "metadata": {},
   "source": [
    "## Training Portion ##"
   ]
  },
  {
   "cell_type": "code",
   "execution_count": 8,
   "id": "bcecbfc9",
   "metadata": {},
   "outputs": [],
   "source": [
    "# import pandas as pd \n",
    "from sklearn.model_selection import train_test_split\n",
    "from sklearn.tree import DecisionTreeClassifier\n",
    "from sklearn.linear_model import LogisticRegression\n",
    "from sklearn.metrics import classification_report, confusion_matrix, roc_auc_score\n",
    "import numpy as np\n",
    "import pickle\n",
    "import os"
   ]
  },
  {
   "cell_type": "code",
   "execution_count": 9,
   "id": "8b25aeb3",
   "metadata": {},
   "outputs": [],
   "source": [
    "def load_data_train():\n",
    "    df = pd.read_csv(\"data/train_clean.csv\")\n",
    "    return df"
   ]
  },
  {
   "cell_type": "code",
   "execution_count": 10,
   "id": "b1cf021b",
   "metadata": {},
   "outputs": [],
   "source": [
    "def tree_classifier(train_df):\n",
    "    df = load_data_train()\n",
    "\n",
    "    X = df.drop(columns=[\"Transported\", \"PassengerId\"])\n",
    "    y = df[\"Transported\"].astype(int)\n",
    "\n",
    "    X_train, X_val, y_train, y_val = train_test_split(X, y, test_size=0.2, random_state=42)\n",
    "\n",
    "    tree = DecisionTreeClassifier(max_depth=5, random_state=42)\n",
    "    tree.fit(X_train, y_train)\n",
    "\n",
    "    importances = pd.Series(tree.feature_importances_, index=X_train.columns).sort_values(ascending=False)\n",
    "    return print(importances.head(10))"
   ]
  },
  {
   "cell_type": "code",
   "execution_count": 11,
   "id": "fc78f7d3",
   "metadata": {},
   "outputs": [],
   "source": [
    "def train_model(df):\n",
    "    X = df.drop(columns=[\"Transported\", \"PassengerId\"])\n",
    "    y = df[\"Transported\"].astype(int)\n",
    "\n",
    "    X_train, X_val, y_train, y_val = train_test_split(X, y, test_size=0.2, random_state=42)\n",
    "\n",
    "    model = LogisticRegression(penalty=\"l2\", max_iter=1000, solver=\"liblinear\")\n",
    "    model.fit(X_train, y_train)\n",
    "\n",
    "    y_pred = model.predict(X_val)\n",
    "    y_proba = model.predict_proba(X_val)[:, 1]\n",
    "\n",
    "    print(\"=== Classification Report ===\")\n",
    "    print(classification_report(y_val, y_pred))\n",
    "    print(\"=== Confusion Matrix ===\")\n",
    "    print(confusion_matrix(y_val, y_pred))\n",
    "    print(f\"=== ROC AUC Score ===\\n{roc_auc_score(y_val, y_proba):.4f}\")\n",
    "\n",
    "    return model\n"
   ]
  },
  {
   "cell_type": "code",
   "execution_count": 12,
   "id": "70cd5967",
   "metadata": {},
   "outputs": [],
   "source": [
    "def save_model(model, filename=\"logistic_regression.pkl\"):\n",
    "    model_dir = \"models\"\n",
    "    os.makedirs(model_dir, exist_ok=True)\n",
    "    model_path = os.path.join(model_dir, filename)\n",
    "    \n",
    "    with open(model_path, \"wb\") as f:\n",
    "        pickle.dump(model, f)\n",
    "    \n",
    "    print(f\"Model saved successfully to {model_path}\")"
   ]
  },
  {
   "cell_type": "code",
   "execution_count": 13,
   "id": "53b5630e",
   "metadata": {},
   "outputs": [
    {
     "name": "stdout",
     "output_type": "stream",
     "text": [
      "Spend                      0.669133\n",
      "Deck_G                     0.094745\n",
      "CabinNum                   0.073389\n",
      "Side_S                     0.041173\n",
      "Deck_E                     0.039429\n",
      "Deck_C                     0.022935\n",
      "HomePlanet_Mars            0.018403\n",
      "Age                        0.017572\n",
      "Destination_TRAPPIST-1e    0.010468\n",
      "CryoSleep                  0.006575\n",
      "dtype: float64\n",
      "=== Classification Report ===\n",
      "              precision    recall  f1-score   support\n",
      "\n",
      "           0       0.71      0.79      0.75       861\n",
      "           1       0.77      0.69      0.73       878\n",
      "\n",
      "    accuracy                           0.74      1739\n",
      "   macro avg       0.74      0.74      0.74      1739\n",
      "weighted avg       0.74      0.74      0.74      1739\n",
      "\n",
      "=== Confusion Matrix ===\n",
      "[[678 183]\n",
      " [271 607]]\n",
      "=== ROC AUC Score ===\n",
      "0.7998\n",
      "Model saved successfully to models/logistic_regression.pkl\n"
     ]
    },
    {
     "name": "stderr",
     "output_type": "stream",
     "text": [
      "/Users/edupa/Development/kaggle_comps/spaceship_titanic/.venv/lib/python3.13/site-packages/sklearn/utils/extmath.py:203: RuntimeWarning: divide by zero encountered in matmul\n",
      "  ret = a @ b\n",
      "/Users/edupa/Development/kaggle_comps/spaceship_titanic/.venv/lib/python3.13/site-packages/sklearn/utils/extmath.py:203: RuntimeWarning: overflow encountered in matmul\n",
      "  ret = a @ b\n",
      "/Users/edupa/Development/kaggle_comps/spaceship_titanic/.venv/lib/python3.13/site-packages/sklearn/utils/extmath.py:203: RuntimeWarning: invalid value encountered in matmul\n",
      "  ret = a @ b\n",
      "/Users/edupa/Development/kaggle_comps/spaceship_titanic/.venv/lib/python3.13/site-packages/sklearn/utils/extmath.py:203: RuntimeWarning: divide by zero encountered in matmul\n",
      "  ret = a @ b\n",
      "/Users/edupa/Development/kaggle_comps/spaceship_titanic/.venv/lib/python3.13/site-packages/sklearn/utils/extmath.py:203: RuntimeWarning: overflow encountered in matmul\n",
      "  ret = a @ b\n",
      "/Users/edupa/Development/kaggle_comps/spaceship_titanic/.venv/lib/python3.13/site-packages/sklearn/utils/extmath.py:203: RuntimeWarning: invalid value encountered in matmul\n",
      "  ret = a @ b\n"
     ]
    }
   ],
   "source": [
    "df = load_data_train()\n",
    "tree_classifier(df)\n",
    "model = train_model(df)\n",
    "save_model(model)"
   ]
  }
 ],
 "metadata": {
  "kernelspec": {
   "display_name": ".venv",
   "language": "python",
   "name": "python3"
  },
  "language_info": {
   "codemirror_mode": {
    "name": "ipython",
    "version": 3
   },
   "file_extension": ".py",
   "mimetype": "text/x-python",
   "name": "python",
   "nbconvert_exporter": "python",
   "pygments_lexer": "ipython3",
   "version": "3.13.1"
  }
 },
 "nbformat": 4,
 "nbformat_minor": 5
}
