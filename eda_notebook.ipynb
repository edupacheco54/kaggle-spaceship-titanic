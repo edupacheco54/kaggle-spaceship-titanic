{
 "cells": [
  {
   "cell_type": "code",
   "execution_count": null,
   "id": "adc75fb6",
   "metadata": {},
   "outputs": [],
   "source": [
    "import pandas as pd\n",
    "from sklearn.impute import SimpleImputer\n",
    "# import numpy as np"
   ]
  },
  {
   "cell_type": "code",
   "execution_count": null,
   "id": "c7cd87a4",
   "metadata": {},
   "outputs": [],
   "source": [
    "def load_data():\n",
    "    train_df = pd.read_csv(\"data/train.csv\")\n",
    "    test_df = pd.read_csv(\"data/test.csv\")\n",
    "    return train_df, test_df"
   ]
  },
  {
   "cell_type": "code",
   "execution_count": null,
   "id": "5a7ecf74",
   "metadata": {},
   "outputs": [],
   "source": [
    "def clean_data(df):\n",
    "    spend_cols = [\"RoomService\", \"FoodCourt\", \"ShoppingMall\", \"Spa\", \"VRDeck\"]\n",
    "    df[\"Spend\"] = df[spend_cols].fillna(0).sum(axis=1) > 0\n",
    "    df = df.drop(columns=spend_cols)\n",
    "    df = df.drop(columns=[\"Name\"])\n",
    "    return df"
   ]
  },
  {
   "cell_type": "code",
   "execution_count": null,
   "id": "3712d381",
   "metadata": {},
   "outputs": [],
   "source": [
    "# freq_imputer = SimpleImputer(strategy=\"most_frequent\")\n",
    "# num_imputer = SimpleImputer(strategy=\"median\")\n",
    "# train_df[[\"HomePlanet\", \"Destination\", \"VIP\", \"CryoSleep\"]] = freq_imputer.fit_transform(train_df[[\"HomePlanet\", \"Destination\", \"VIP\", \"CryoSleep\"]]) # freq\n",
    "# train_df[[\"Age\"]] = num_imputer.fit_transform(train_df[[\"Age\"]]) # Numerical\n",
    "# train_df[\"Cabin\"] = train_df[\"Cabin\"].fillna(\"X/0000/X\")\n",
    "# train_df.isnull().mean().sort_values(ascending=False)\n",
    "# train_df"
   ]
  },
  {
   "cell_type": "code",
   "execution_count": null,
   "id": "05baac3d",
   "metadata": {},
   "outputs": [],
   "source": [
    "def fill_missing_values(df):\n",
    "    freq_imputer = SimpleImputer(strategy=\"most_frequent\")\n",
    "    num_imputer = SimpleImputer(strategy=\"median\")\n",
    "    df[[\"HomePlanet\", \"Destination\", \"VIP\", \"CryoSleep\"]] = freq_imputer.fit_transform(df[[\"HomePlanet\", \"Destination\", \"VIP\", \"CryoSleep\"]]) # freq\n",
    "    df[[\"Age\"]] = num_imputer.fit_transform(df[[\"Age\"]]) # Numerical\n",
    "    df[\"Cabin\"] = df[\"Cabin\"].fillna(\"X/0000/X\")\n",
    "    return df"
   ]
  },
  {
   "cell_type": "code",
   "execution_count": null,
   "id": "e02d95fb",
   "metadata": {},
   "outputs": [],
   "source": [
    "train, test = load_data()\n",
    "train_clean, test_clean = clean_data(train), clean_data(test)\n",
    "train_fill, test_fill = fill_missing_values(train_clean), fill_missing_values(test_clean)"
   ]
  },
  {
   "cell_type": "code",
   "execution_count": null,
   "id": "b9958e3c",
   "metadata": {},
   "outputs": [],
   "source": [
    "# df = pd.get_dummies(df, columns=[\"HomePlanet\", \"CryoSleep\", \"Cabin\", \"Destination\", \"VIP\", \"Spend\"], drop_first=True)"
   ]
  }
 ],
 "metadata": {
  "kernelspec": {
   "display_name": ".venv",
   "language": "python",
   "name": "python3"
  },
  "language_info": {
   "codemirror_mode": {
    "name": "ipython",
    "version": 3
   },
   "file_extension": ".py",
   "mimetype": "text/x-python",
   "name": "python",
   "nbconvert_exporter": "python",
   "pygments_lexer": "ipython3",
   "version": "3.13.1"
  }
 },
 "nbformat": 4,
 "nbformat_minor": 5
}
