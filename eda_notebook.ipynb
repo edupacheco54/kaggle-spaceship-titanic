{
 "cells": [
  {
   "cell_type": "code",
   "execution_count": 1,
   "id": "adc75fb6",
   "metadata": {},
   "outputs": [],
   "source": [
    "import pandas as pd\n",
    "from sklearn.impute import SimpleImputer"
   ]
  },
  {
   "cell_type": "code",
   "execution_count": 2,
   "id": "c7cd87a4",
   "metadata": {},
   "outputs": [],
   "source": [
    "def load_data():\n",
    "    train_df = pd.read_csv(\"data/train.csv\")\n",
    "    test_df = pd.read_csv(\"data/test.csv\")\n",
    "    return train_df, test_df"
   ]
  },
  {
   "cell_type": "code",
   "execution_count": 3,
   "id": "5a7ecf74",
   "metadata": {},
   "outputs": [],
   "source": [
    "def clean_data(df):\n",
    "    spend_cols = [\"RoomService\", \"FoodCourt\", \"ShoppingMall\", \"Spa\", \"VRDeck\"]\n",
    "    df[\"Spend\"] = df[spend_cols].fillna(0).sum(axis=1) > 0\n",
    "    df = df.drop(columns=spend_cols)\n",
    "    df = df.drop(columns=[\"Name\"])\n",
    "    return df"
   ]
  },
  {
   "cell_type": "code",
   "execution_count": 4,
   "id": "05baac3d",
   "metadata": {},
   "outputs": [],
   "source": [
    "def fill_missing_values(df):\n",
    "    freq_imputer = SimpleImputer(strategy=\"most_frequent\")\n",
    "    num_imputer = SimpleImputer(strategy=\"median\")\n",
    "    df[[\"HomePlanet\", \"Destination\", \"VIP\", \"CryoSleep\"]] = freq_imputer.fit_transform(df[[\"HomePlanet\", \"Destination\", \"VIP\", \"CryoSleep\"]]) # freq\n",
    "    df[[\"Age\"]] = num_imputer.fit_transform(df[[\"Age\"]]) # Numerical\n",
    "    df[\"Cabin\"] = df[\"Cabin\"].fillna(\"X/0000/X\")\n",
    "    df[[\"Deck\", \"CabinNum\", \"Side\"]] = df[\"Cabin\"].str.split(\"/\", expand=True)\n",
    "    df[\"CabinNum\"] = pd.to_numeric(df[\"CabinNum\"], errors=\"coerce\")\n",
    "    df = df.drop(columns=\"Cabin\")\n",
    "    return df"
   ]
  },
  {
   "cell_type": "code",
   "execution_count": 5,
   "id": "5a772e00",
   "metadata": {},
   "outputs": [],
   "source": [
    "def clean_features(df):\n",
    "    bins = [-0.1, 12, 17, 30, 50, 80]\n",
    "    labels = [\"child\", \"teen\", \"young_adult\", \"adult\", \"senior\"]\n",
    "    df[\"age_group\"] = pd.cut(df[\"Age\"], bins=bins, labels=labels)\n",
    "    df[\"Side_AgeGroup\"] = df[\"Side\"] + \"_\" + df[\"age_group\"].astype(str)\n",
    "    df[\"Is_Starboard_YoungAdult\"] = (df[\"Side\"] == \"S\") & (df[\"age_group\"] == \"young_adult\")\n",
    "    df = pd.get_dummies(df, columns=[\"HomePlanet\", \"Destination\", \"Deck\", \"Side\", \"age_group\", \"Side_AgeGroup\"], drop_first=True)\n",
    "\n",
    "    return df"
   ]
  },
  {
   "cell_type": "code",
   "execution_count": null,
   "id": "c563a4e6",
   "metadata": {},
   "outputs": [],
   "source": [
    "def save_files(df):\n",
    "    "
   ]
  },
  {
   "cell_type": "code",
   "execution_count": 6,
   "id": "e02d95fb",
   "metadata": {},
   "outputs": [],
   "source": [
    "train, test = load_data()\n",
    "train, test = clean_data(train), clean_data(test)\n",
    "train, test = fill_missing_values(train), fill_missing_values(test)\n",
    "train, test = clean_features(train), clean_features(test)"
   ]
  }
 ],
 "metadata": {
  "kernelspec": {
   "display_name": ".venv",
   "language": "python",
   "name": "python3"
  },
  "language_info": {
   "codemirror_mode": {
    "name": "ipython",
    "version": 3
   },
   "file_extension": ".py",
   "mimetype": "text/x-python",
   "name": "python",
   "nbconvert_exporter": "python",
   "pygments_lexer": "ipython3",
   "version": "3.13.1"
  }
 },
 "nbformat": 4,
 "nbformat_minor": 5
}
